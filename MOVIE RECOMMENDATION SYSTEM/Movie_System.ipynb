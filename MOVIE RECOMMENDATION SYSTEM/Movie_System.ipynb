{
 "cells": [
  {
   "cell_type": "code",
   "execution_count": 12,
   "metadata": {},
   "outputs": [],
   "source": [
    "import pandas as pd\n",
    "import re\n",
    "import numpy as np\n",
    "from sklearn.feature_extraction.text import TfidfVectorizer\n",
    "from sklearn.metrics.pairwise import cosine_similarity\n",
    "import ipywidgets as widgets\n",
    "from IPython.display import display, clear_output\n",
    "\n",
    "# Read the movie data\n",
    "df = pd.read_csv(\"movies.csv\")\n",
    "\n",
    "# Function to clean movie titles\n",
    "def clean_title(title):\n",
    "    return re.sub('[^a-zA-Z0-9 ]', \"\", title)\n",
    "\n",
    "# Apply title cleaning to the dataframe\n",
    "df['clean_title'] = df['title'].apply(clean_title)\n",
    "\n",
    "# Vectorize movie titles using TF-IDF\n",
    "vectorizer = TfidfVectorizer(ngram_range=(1, 2))\n",
    "tfidf_matrix = vectorizer.fit_transform(df['clean_title'])"
   ]
  },
  {
   "cell_type": "code",
   "execution_count": 13,
   "metadata": {},
   "outputs": [],
   "source": [
    "# Function to get movie recommendations\n",
    "def get_recommendations(title, num_recommendations=5):\n",
    "    cleaned_title = clean_title(title)\n",
    "    input_vector = vectorizer.transform([cleaned_title])\n",
    "    cosine_similarities = cosine_similarity(input_vector, tfidf_matrix).flatten()\n",
    "    related_movies_indices = np.argsort(cosine_similarities)[-num_recommendations:][::-1]\n",
    "    recommendations = df.iloc[related_movies_indices]\n",
    "    return recommendations\n",
    "\n",
    "# Create input and output widgets\n",
    "input_box = widgets.Text(\n",
    "    value=\"Enter a Movie\",\n",
    "    description=\"Movie Title: \"\n",
    ")\n",
    "\n",
    "output_box = widgets.Output()"
   ]
  },
  {
   "cell_type": "code",
   "execution_count": 14,
   "metadata": {},
   "outputs": [
    {
     "data": {
      "application/vnd.jupyter.widget-view+json": {
       "model_id": "c2cc278f3f8b43c9bd6450a67cdb6eea",
       "version_major": 2,
       "version_minor": 0
      },
      "text/plain": [
       "Text(value='Enter a Movie', description='Movie Title: ')"
      ]
     },
     "metadata": {},
     "output_type": "display_data"
    },
    {
     "data": {
      "application/vnd.jupyter.widget-view+json": {
       "model_id": "45e3ee51eb184dbdb4bcd206c92ab51b",
       "version_major": 2,
       "version_minor": 0
      },
      "text/plain": [
       "Output()"
      ]
     },
     "metadata": {},
     "output_type": "display_data"
    }
   ],
   "source": [
    "# Function to handle input change and display recommendations\n",
    "def on_input_change(change):\n",
    "    with output_box:\n",
    "        clear_output(wait=True)\n",
    "        title = change['new']\n",
    "        if len(title) >= 6:\n",
    "            recommendations = get_recommendations(title)\n",
    "            display(recommendations)\n",
    "\n",
    "input_box.observe(on_input_change, names='value')\n",
    "\n",
    "# Display the input box and output box\n",
    "display(input_box, output_box)"
   ]
  }
 ],
 "metadata": {
  "kernelspec": {
   "display_name": "Python 3",
   "language": "python",
   "name": "python3"
  },
  "language_info": {
   "codemirror_mode": {
    "name": "ipython",
    "version": 3
   },
   "file_extension": ".py",
   "mimetype": "text/x-python",
   "name": "python",
   "nbconvert_exporter": "python",
   "pygments_lexer": "ipython3",
   "version": "3.11.5"
  }
 },
 "nbformat": 4,
 "nbformat_minor": 2
}
